{
 "cells": [
  {
   "cell_type": "code",
   "execution_count": 6,
   "metadata": {
    "scrolled": true
   },
   "outputs": [],
   "source": [
    "import os\n",
    "import pandas as pd\n",
    "import numpy as np\n",
    "\n",
    "root = '/home/jovyan/work'"
   ]
  },
  {
   "cell_type": "markdown",
   "metadata": {},
   "source": [
    "# Step 1"
   ]
  },
  {
   "cell_type": "code",
   "execution_count": 9,
   "metadata": {},
   "outputs": [],
   "source": [
    "df = pd.read_csv(root + '/Downloads/trees.csv')\n",
    "train = df.iloc[:500]\n",
    "test = df.iloc[500:]\n",
    "\n",
    "assert len(test) == 250"
   ]
  },
  {
   "cell_type": "code",
   "execution_count": 10,
   "metadata": {},
   "outputs": [],
   "source": [
    "class Leaf:\n",
    "    def __init__(self, label):\n",
    "        self.label = label\n",
    "        \n",
    "class Node:\n",
    "    def __init__(self, column, split_value, left_subtree, right_subtree):\n",
    "        self.column = column\n",
    "        self.split_value = split_value \n",
    "        self.left_subtree = left_subtree \n",
    "        self.right_subtree = right_subtree"
   ]
  },
  {
   "cell_type": "code",
   "execution_count": 12,
   "metadata": {},
   "outputs": [
    {
     "data": {
      "text/plain": [
       "True"
      ]
     },
     "execution_count": 12,
     "metadata": {},
     "output_type": "execute_result"
    }
   ],
   "source": [
    "type(Leaf(1)) == Leaf"
   ]
  },
  {
   "cell_type": "markdown",
   "metadata": {},
   "source": [
    "# Step 2"
   ]
  },
  {
   "cell_type": "code",
   "execution_count": 20,
   "metadata": {},
   "outputs": [],
   "source": [
    "def predict(node, x): \n",
    "    while True:\n",
    "        if x[node.column] <= node.split_value:\n",
    "            if type(node.left_subtree) == Leaf:\n",
    "                return node.left_subtree.label\n",
    "            else:\n",
    "                node = node.left_subtree\n",
    "        else:\n",
    "            if type(node.right_subtree) == Leaf:\n",
    "                return node.right_subtree.label\n",
    "            else:\n",
    "                node = node.right_subtree\n",
    "        \n",
    "\n",
    "test_tree = Node(0, 5.6, Leaf(0), Node(2, 5.0, Leaf(1), Leaf(2)))\n",
    "\n",
    "for expected, idx in [(2, 0), (1, 1), (0, 2)]:\n",
    "    test_x = train.iloc[idx][:4].values\n",
    "    assert predict(test_tree, test_x) == expected\n",
    "        "
   ]
  }
 ],
 "metadata": {
  "kernelspec": {
   "display_name": "Python 3",
   "language": "python",
   "name": "python3"
  },
  "language_info": {
   "codemirror_mode": {
    "name": "ipython",
    "version": 3
   },
   "file_extension": ".py",
   "mimetype": "text/x-python",
   "name": "python",
   "nbconvert_exporter": "python",
   "pygments_lexer": "ipython3",
   "version": "3.6.6"
  }
 },
 "nbformat": 4,
 "nbformat_minor": 4
}
